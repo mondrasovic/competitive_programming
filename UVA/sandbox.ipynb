{
 "metadata": {
  "language_info": {
   "codemirror_mode": {
    "name": "ipython",
    "version": 3
   },
   "file_extension": ".py",
   "mimetype": "text/x-python",
   "name": "python",
   "nbconvert_exporter": "python",
   "pygments_lexer": "ipython3",
   "version": "3.7.9-final"
  },
  "orig_nbformat": 2,
  "kernelspec": {
   "name": "python379jvsc74a57bd08423d299652f78eb0f125f4787854431abc24c3cd5da653d06c6efd34d750ecd",
   "display_name": "Python 3.7.9 64-bit"
  }
 },
 "nbformat": 4,
 "nbformat_minor": 2,
 "cells": [
  {
   "cell_type": "code",
   "execution_count": 3,
   "metadata": {},
   "outputs": [
    {
     "output_type": "stream",
     "name": "stdout",
     "text": [
      "0 --> 0 --> 0\n1 --> 1 --> 0\n2 --> 1.0 --> 1\n3 --> 1.0 --> 1\n4 --> 1.0 --> 2\n5 --> 1.0 --> 1\n6 --> 1.0 --> 2\n7 --> 1.0 --> 1\n8 --> 1.0 --> 3\n9 --> 1.0 --> 2\n10 --> 1.0 --> 2\n11 --> 1.0 --> 1\n12 --> 1.0 --> 3\n13 --> 1.0 --> 1\n14 --> 1.0 --> 2\n15 --> 1.0 --> 2\n16 --> 1.0 --> 4\n17 --> 1.0 --> 1\n18 --> 1.0 --> 3\n19 --> 1.0 --> 1\n20 --> 1.0 --> 3\n21 --> 1.0 --> 2\n22 --> 1.0 --> 2\n23 --> 1.0 --> 1\n24 --> 1.0 --> 4\n25 --> 1.0 --> 2\n26 --> 1.0 --> 2\n27 --> 1.0 --> 3\n28 --> 1.0 --> 3\n29 --> 1.0 --> 1\n"
     ]
    }
   ],
   "source": [
    "max_val = 30\n",
    "rem_val = list(range(max_val))\n",
    "primes_count = [0] * max_val\n",
    "\n",
    "for i in range(2, max_val):\n",
    "    for j in range(i, max_val, i):\n",
    "        while (rem_val[j] % i == 0) and (rem_val[j] > 1):\n",
    "            rem_val[j] /= i\n",
    "            primes_count[j] += 1\n",
    "\n",
    "for i in range(max_val):\n",
    "    print(f\"{i} --> {rem_val[i]} --> {primes_count[i]}\")"
   ]
  }
 ]
}