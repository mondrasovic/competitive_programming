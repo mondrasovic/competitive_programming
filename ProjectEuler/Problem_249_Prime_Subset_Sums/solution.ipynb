{
 "cells": [
  {
   "cell_type": "code",
   "execution_count": 20,
   "metadata": {},
   "outputs": [],
   "source": [
    "import more_itertools\n",
    "\n",
    "LIMIT = 5000\n",
    "max_possible_sum = sum(more_itertools.sieve(LIMIT))\n",
    "primes = list(more_itertools.sieve(max_possible_sum))"
   ]
  },
  {
   "cell_type": "code",
   "execution_count": 21,
   "metadata": {},
   "outputs": [
    {
     "name": "stdout",
     "output_type": "stream",
     "text": [
      "[1.]\t2\t--> (2,)\n",
      "[2.]\t3\t--> (3,)\n",
      "[3.]\t5\t--> (5,)\n",
      "[4.]\t5\t--> (2, 3)\n",
      "[5.]\t7\t--> (7,)\n",
      "[6.]\t7\t--> (2, 5)\n",
      "[7.]\t17\t--> (2, 3, 5, 7)\n"
     ]
    }
   ],
   "source": [
    "import itertools\n",
    "import more_itertools\n",
    "\n",
    "def all_subsets_with_prime_sum(values):\n",
    "    yield from (\n",
    "        subset\n",
    "        for subset in (\n",
    "            itertools.chain.from_iterable(\n",
    "                itertools.combinations(values, r) for r in range(1, len(values) + 1)\n",
    "            )\n",
    "        )\n",
    "        if sum(subset) in set(more_itertools.sieve(1000))\n",
    "    )\n",
    "\n",
    "for i, subset in enumerate(\n",
    "    sorted(all_subsets_with_prime_sum((2, 3, 5, 7)), key=lambda s: sum(s)), start=1\n",
    "):\n",
    "    print(f\"[{i}.]\\t{sum(subset)}\\t--> {subset}\")"
   ]
  },
  {
   "cell_type": "code",
   "execution_count": 65,
   "metadata": {},
   "outputs": [
    {
     "name": "stdout",
     "output_type": "stream",
     "text": [
      "Solution: 35412260799145022151733128272758415725053962252706\n"
     ]
    }
   ],
   "source": [
    "import more_itertools\n",
    "\n",
    "LIMIT = 1000\n",
    "\n",
    "primes_below_limit = list(more_itertools.sieve(LIMIT))\n",
    "max_possible_sum = sum(primes_below_limit)\n",
    "possible_prime_sums = set(more_itertools.sieve(max_possible_sum + 1))\n",
    "\n",
    "dp = [[0] * (max_possible_sum + 1) for _ in range(len(primes_below_limit) + 1)]\n",
    "dp[0][0] = 1\n",
    "\n",
    "for i, curr_prime in enumerate(primes_below_limit, start=1):\n",
    "    for target_sum in range(len(dp[i])):\n",
    "        dp[i][target_sum] = dp[i - 1][target_sum]\n",
    "        if target_sum >= curr_prime:\n",
    "            dp[i][target_sum] += dp[i - 1][target_sum - curr_prime]\n",
    "\n",
    "prime_sum_subsets_count = sum(\n",
    "    curr_count for curr_sum, curr_count in enumerate(dp[-1]) if curr_sum in possible_prime_sums\n",
    ")\n",
    "print(f\"Solution: {prime_sum_subsets_count}\")"
   ]
  },
  {
   "cell_type": "code",
   "execution_count": 68,
   "metadata": {},
   "outputs": [
    {
     "name": "stdout",
     "output_type": "stream",
     "text": [
      "Solution: 584659275262564250418\n"
     ]
    }
   ],
   "source": [
    "import numpy as np\n",
    "import more_itertools\n",
    "\n",
    "LIMIT = 5000\n",
    "MOD = 10 ** 16\n",
    "\n",
    "primes_below_limit = list(more_itertools.sieve(LIMIT))\n",
    "max_possible_sum = sum(primes_below_limit)\n",
    "possible_prime_sums = set(more_itertools.sieve(max_possible_sum + 1))\n",
    "\n",
    "dp = np.zeros(shape=(len(primes_below_limit) + 1, max_possible_sum + 1), dtype=np.ulonglong)\n",
    "dp[0][0] = 1\n",
    "\n",
    "possible_sums = np.arange(max_possible_sum + 1, dtype=np.ulonglong)\n",
    "for i, curr_prime in enumerate(primes_below_limit, start=1):\n",
    "    dp[i] = dp[i - 1]\n",
    "    non_neg_sum_indices = np.where(curr_prime <= possible_sums)[0]\n",
    "    dp[i][non_neg_sum_indices] = (\n",
    "        dp[i][non_neg_sum_indices] + dp[i - 1][:-non_neg_sum_indices[0]]\n",
    "    ) % MOD\n",
    "\n",
    "prime_sum_subsets_count = sum(\n",
    "    int(curr_count) for curr_sum, curr_count in enumerate(dp[-1]) if curr_sum in possible_prime_sums\n",
    ")\n",
    "print(f\"Solution: {prime_sum_subsets_count}\")"
   ]
  },
  {
   "cell_type": "code",
   "execution_count": 69,
   "metadata": {},
   "outputs": [
    {
     "data": {
      "text/plain": [
       "'9275262564250418'"
      ]
     },
     "execution_count": 69,
     "metadata": {},
     "output_type": "execute_result"
    }
   ],
   "source": [
    "str(prime_sum_subsets_count)[-16:]"
   ]
  },
  {
   "cell_type": "code",
   "execution_count": 43,
   "metadata": {},
   "outputs": [
    {
     "data": {
      "text/plain": [
       "numpy.float64"
      ]
     },
     "execution_count": 43,
     "metadata": {},
     "output_type": "execute_result"
    }
   ],
   "source": [
    "type(prime_sum_subsets_count)"
   ]
  },
  {
   "cell_type": "code",
   "execution_count": 44,
   "metadata": {},
   "outputs": [
    {
     "data": {
      "text/plain": [
       "numpy.ulonglong"
      ]
     },
     "execution_count": 44,
     "metadata": {},
     "output_type": "execute_result"
    }
   ],
   "source": [
    "type(dp[0][0])"
   ]
  },
  {
   "cell_type": "code",
   "execution_count": 16,
   "metadata": {},
   "outputs": [
    {
     "data": {
      "text/plain": [
       "(array([-1,  0,  1,  2,  3]), 1, array([1, 2, 3, 4]))"
      ]
     },
     "execution_count": 16,
     "metadata": {},
     "output_type": "execute_result"
    }
   ],
   "source": [
    "curr_prime = 2\n",
    "data = np.asarray([1, 2, 3, 4, 5])\n",
    "sum_diff = data - curr_prime\n",
    "sum_diff, np.where(sum_diff == 0)[0][0], np.where(sum_diff >= 0)[0]"
   ]
  }
 ],
 "metadata": {
  "kernelspec": {
   "display_name": "ml",
   "language": "python",
   "name": "python3"
  },
  "language_info": {
   "codemirror_mode": {
    "name": "ipython",
    "version": 3
   },
   "file_extension": ".py",
   "mimetype": "text/x-python",
   "name": "python",
   "nbconvert_exporter": "python",
   "pygments_lexer": "ipython3",
   "version": "3.10.12"
  }
 },
 "nbformat": 4,
 "nbformat_minor": 2
}
