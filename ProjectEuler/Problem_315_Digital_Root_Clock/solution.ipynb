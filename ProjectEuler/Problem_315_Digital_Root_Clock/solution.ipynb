{
 "cells": [
  {
   "cell_type": "code",
   "execution_count": null,
   "metadata": {},
   "outputs": [],
   "source": [
    "DIGIT_ACTIVE_SEGMENTS = [\n",
    "    int(\"1110111\", 2),  # 0\n",
    "    int(\"0100100\", 2),  # 1\n",
    "    int(\"1011101\", 2),  # 2\n",
    "    int(\"1101101\", 2),  # 3\n",
    "    int(\"0101110\", 2),  # 4\n",
    "    int(\"1101011\", 2),  # 5\n",
    "    int(\"1111011\", 2),  # 6\n",
    "    int(\"0100111\", 2),  # 7\n",
    "    int(\"1111111\", 2),  # 8\n",
    "    int(\"1101111\", 2),  # 9\n",
    "]\n",
    "DIGIT_BIT_COUNTS = [digit.bit_count() for digit in DIGIT_ACTIVE_SEGMENTS]"
   ]
  },
  {
   "cell_type": "code",
   "execution_count": null,
   "metadata": {},
   "outputs": [],
   "source": [
    "from itertools import zip_longest\n",
    "\n",
    "def calc_sams_clock_cost(num):\n",
    "    cost = 0\n",
    "    current_num = num\n",
    "    prev_num = -1\n",
    "    while True:\n",
    "        if current_num == prev_num:\n",
    "            break\n",
    "        digit_sum = 0\n",
    "        prev_num = current_num\n",
    "        while current_num > 0:\n",
    "            digit = current_num % 10\n",
    "            digit_sum += digit\n",
    "            current_num //= 10\n",
    "            cost += DIGIT_BIT_COUNTS[digit]\n",
    "        current_num = digit_sum\n",
    "    return cost * 2\n",
    "\n",
    "def iter_active_segments(digits):\n",
    "    yield from (DIGIT_ACTIVE_SEGMENTS[digit] for digit in digits)\n",
    "\n",
    "def calc_maxs_clock_cost(num):\n",
    "    cost = 0\n",
    "    current_num = num\n",
    "    prev_digits = []\n",
    "    prev_num = -1\n",
    "    while True:\n",
    "        if current_num == prev_num:\n",
    "            break\n",
    "        current_digits = []\n",
    "        prev_num = current_num\n",
    "        digit_sum = 0\n",
    "        while current_num > 0:\n",
    "            digit = current_num % 10\n",
    "            current_digits.append(digit)\n",
    "            digit_sum += digit\n",
    "            current_num //= 10\n",
    "        cost += sum(\n",
    "            (prev ^ current).bit_count()\n",
    "            for prev, current in zip_longest(\n",
    "                iter_active_segments(prev_digits),\n",
    "                iter_active_segments(current_digits),\n",
    "                fillvalue=0,\n",
    "            )\n",
    "        )\n",
    "        prev_digits = current_digits\n",
    "        current_num = digit_sum\n",
    "    cost += sum(DIGIT_BIT_COUNTS[digit] for digit in prev_digits)\n",
    "    return cost\n",
    "\n",
    "assert calc_sams_clock_cost(137) == 40\n",
    "assert calc_maxs_clock_cost(137) == 30"
   ]
  },
  {
   "cell_type": "code",
   "execution_count": null,
   "metadata": {},
   "outputs": [],
   "source": [
    "from itertools import dropwhile\n",
    "from more_itertools import sieve\n",
    "MIN_VAL = 10 ** 7\n",
    "MAX_VAL = 2 * MIN_VAL\n",
    "\n",
    "PRIMES = list(dropwhile(lambda p: p <= MIN_VAL, sieve(MAX_VAL)))\n",
    "\n",
    "sams_cost = sum(map(calc_sams_clock_cost, PRIMES))\n",
    "maxs_cost = sum(map(calc_maxs_clock_cost, PRIMES))\n",
    "\n",
    "result = sams_cost - maxs_cost\n",
    "print(f\"Solution: {result}\")"
   ]
  }
 ],
 "metadata": {
  "kernelspec": {
   "display_name": "ml",
   "language": "python",
   "name": "python3"
  },
  "language_info": {
   "codemirror_mode": {
    "name": "ipython",
    "version": 3
   },
   "file_extension": ".py",
   "mimetype": "text/x-python",
   "name": "python",
   "nbconvert_exporter": "python",
   "pygments_lexer": "ipython3",
   "version": "3.10.12"
  }
 },
 "nbformat": 4,
 "nbformat_minor": 2
}
