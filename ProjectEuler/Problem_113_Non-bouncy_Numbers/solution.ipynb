{
 "cells": [
  {
   "cell_type": "code",
   "execution_count": 1,
   "metadata": {},
   "outputs": [],
   "source": [
    "from __future__ import annotations\n",
    "\n",
    "import functools\n",
    "\n",
    "@functools.cache\n",
    "def _count_increasing(length: int, digit: int) -> int:\n",
    "    if length == 1:\n",
    "        return 1\n",
    "    return sum(_count_increasing(length - 1, last_digit) for last_digit in range(digit, 10))\n",
    "\n",
    "@functools.cache\n",
    "def _count_decreasing(length: int, digit: int) -> int:\n",
    "    if (length == 1) or (digit == 0):\n",
    "        return 1\n",
    "    return sum(_count_decreasing(length - 1, last_digit) for last_digit in range(digit, -1, -1))\n",
    "\n",
    "def count_non_bouncy_numbers(max_length: int) -> int:\n",
    "    return sum(\n",
    "        _count_increasing(length, digit) + _count_decreasing(length, digit)\n",
    "        for length in range(1, max_length + 1)\n",
    "        for digit in range(1, 10)\n",
    "    ) - 9 * max_length"
   ]
  },
  {
   "cell_type": "code",
   "execution_count": 2,
   "metadata": {},
   "outputs": [
    {
     "name": "stdout",
     "output_type": "stream",
     "text": [
      "Solution - the number of non-bouncy numbers: 51161058134250\n"
     ]
    }
   ],
   "source": [
    "max_length = 100\n",
    "solution = count_non_bouncy_numbers(max_length)\n",
    "print(f\"Solution - the number of non-bouncy numbers: {solution}\")"
   ]
  }
 ],
 "metadata": {
  "kernelspec": {
   "display_name": "ml",
   "language": "python",
   "name": "python3"
  },
  "language_info": {
   "codemirror_mode": {
    "name": "ipython",
    "version": 3
   },
   "file_extension": ".py",
   "mimetype": "text/x-python",
   "name": "python",
   "nbconvert_exporter": "python",
   "pygments_lexer": "ipython3",
   "version": "3.10.12"
  }
 },
 "nbformat": 4,
 "nbformat_minor": 2
}
