{
 "cells": [
  {
   "cell_type": "code",
   "execution_count": 11,
   "metadata": {},
   "outputs": [
    {
     "name": "stdout",
     "output_type": "stream",
     "text": [
      "Solution: 139602943319822\n"
     ]
    }
   ],
   "source": [
    "def primes(num):\n",
    "    is_prime = [True] * num\n",
    "    is_prime[0] = is_prime[1] = False\n",
    "    \n",
    "    for i in range(2, num):\n",
    "        if is_prime[i]:\n",
    "            yield i\n",
    "        for j in range(i * i, num, i):\n",
    "            is_prime[j] = False\n",
    "\n",
    "def prime_mod_inv(num, prime_modulus):\n",
    "    return pow(num, prime_modulus - 2, prime_modulus)\n",
    "\n",
    "def prime_k_factorial_sum(prime_num):\n",
    "    res_1 = prime_num - 1  # (p - 1)!\n",
    "    res_2 = (res_1 * prime_mod_inv(prime_num - 1, prime_num)) % prime_num  # (p - 2)!\n",
    "    res_3 = (res_2 * prime_mod_inv(prime_num - 2, prime_num)) % prime_num  # (p - 3)!\n",
    "    res_4 = (res_3 * prime_mod_inv(prime_num - 3, prime_num)) % prime_num  # (p - 4)!\n",
    "    res_5 = (res_4 * prime_mod_inv(prime_num - 4, prime_num)) % prime_num  # (p - 5)!\n",
    "    return (res_1 + res_2 + res_3 + res_4 + res_5) % prime_num\n",
    "\n",
    "def calc_prime_k_factorial_sum_of_sums(max_num):\n",
    "    return sum(prime_k_factorial_sum(prime) for prime in primes(max_num) if prime >= 5)\n",
    "\n",
    "solution = calc_prime_k_factorial_sum_of_sums(10 ** 8)\n",
    "print(f\"Solution: {solution}\")"
   ]
  },
  {
   "cell_type": "code",
   "execution_count": null,
   "metadata": {},
   "outputs": [],
   "source": []
  }
 ],
 "metadata": {
  "kernelspec": {
   "display_name": "ml",
   "language": "python",
   "name": "python3"
  },
  "language_info": {
   "codemirror_mode": {
    "name": "ipython",
    "version": 3
   },
   "file_extension": ".py",
   "mimetype": "text/x-python",
   "name": "python",
   "nbconvert_exporter": "python",
   "pygments_lexer": "ipython3",
   "version": "3.10.6"
  },
  "orig_nbformat": 4
 },
 "nbformat": 4,
 "nbformat_minor": 2
}
