{
 "cells": [
  {
   "cell_type": "code",
   "execution_count": 1,
   "metadata": {},
   "outputs": [],
   "source": [
    "%load_ext Cython"
   ]
  },
  {
   "cell_type": "code",
   "execution_count": 2,
   "metadata": {},
   "outputs": [
    {
     "ename": "",
     "evalue": "",
     "output_type": "error",
     "traceback": [
      "\u001b[1;31mThe Kernel crashed while executing code in the the current cell or a previous cell. Please review the code in the cell(s) to identify a possible cause of the failure. Click <a href='https://aka.ms/vscodeJupyterKernelCrash'>here</a> for more info. View Jupyter <a href='command:jupyter.viewOutput'>log</a> for further details."
     ]
    }
   ],
   "source": [
    "%%cython\n",
    "\n",
    "import itertools\n",
    "from labmath import primegen, primepi\n",
    "\n",
    "def count_numbers_with_8_divisors(max_val: int) -> int:\n",
    "    primes: list[int] = list(primegen(max_val // 8))\n",
    "\n",
    "    return (\n",
    "        _single_prime_case(max_val, primes) +\n",
    "        _double_prime_case(max_val, primes)\n",
    "    )\n",
    "    # return (\n",
    "    #     _single_prime_case(max_val, primes) +\n",
    "    #     _double_prime_case(max_val, primes) +\n",
    "    #     _triple_prime_case(max_val, primes)\n",
    "    # )\n",
    "\n",
    "\n",
    "def _single_prime_case(max_val: int, primes: list[int]) -> int:\n",
    "    return sum(1 for _ in itertools.takewhile(lambda p: p ** 7 <= max_val, primes))\n",
    "\n",
    "\n",
    "def _double_prime_case(max_val: int, primes: list[int]) -> int:\n",
    "    count: int = 0\n",
    "\n",
    "    for p_1 in primes:\n",
    "        p_1_cubed: int = p_1 ** 3\n",
    "        if p_1_cubed > max_val:\n",
    "            break\n",
    "\n",
    "        for p_2 in primes:\n",
    "            if p_2 == p_1:\n",
    "                continue\n",
    "            val: int = p_1_cubed * p_2\n",
    "            if val > max_val:\n",
    "                break\n",
    "            count += 1\n",
    "    \n",
    "    return count\n",
    "\n",
    "\n",
    "def _triple_prime_case(max_val: int, primes: list[int]) -> int:\n",
    "    count: int = 0\n",
    "\n",
    "    for i, p_1 in enumerate(primes):\n",
    "        if p_1 ** 3 > max_val:\n",
    "            break\n",
    "\n",
    "        for j in range(i + 1, len(primes)):\n",
    "            p_2: int = primes[j]\n",
    "            max_p_3: int = max_val // (p_1 * p_2)\n",
    "            if max_p_3 <= p_2:\n",
    "                break\n",
    "            count += primepi(max_p_3) - (j + 1)\n",
    "    \n",
    "    return count\n",
    "\n",
    "# assert count_numbers_with_8_divisors(100) == 10\n",
    "# assert count_numbers_with_8_divisors(1000) == 180\n",
    "# assert count_numbers_with_8_divisors(1_000_000) == 224427\n",
    "\n",
    "print(f\"Solution: {count_numbers_with_8_divisors(10 ** 12)}\")"
   ]
  }
 ],
 "metadata": {
  "kernelspec": {
   "display_name": "ml",
   "language": "python",
   "name": "python3"
  },
  "language_info": {
   "codemirror_mode": {
    "name": "ipython",
    "version": 3
   },
   "file_extension": ".py",
   "mimetype": "text/x-python",
   "name": "python",
   "nbconvert_exporter": "python",
   "pygments_lexer": "ipython3",
   "version": "3.10.12"
  }
 },
 "nbformat": 4,
 "nbformat_minor": 2
}
