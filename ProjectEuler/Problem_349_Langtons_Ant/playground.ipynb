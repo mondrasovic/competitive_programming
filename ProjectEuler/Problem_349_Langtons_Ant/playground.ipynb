{
 "cells": [
  {
   "cell_type": "code",
   "execution_count": null,
   "metadata": {},
   "outputs": [],
   "source": [
    "import numpy as np\n",
    "\n",
    "transition_matrix = np.asarray(\n",
    "    [\n",
    "        [0, 1, 0, 0],\n",
    "        [0, 0, 1, 0],\n",
    "        [0, 0, 0, 1],\n",
    "        [1, 0, 0, 0],\n",
    "    ]\n",
    ")\n",
    "\n",
    "direction_state = np.asarray([1, 0, 0, 0])\n",
    "\n",
    "for _ in range(10):\n",
    "    new_direction_state = transition_matrix @ direction_state\n",
    "    print(f\"{direction_state} --> {new_direction_state}\")\n",
    "    direction_state = new_direction_state"
   ]
  },
  {
   "cell_type": "code",
   "execution_count": null,
   "metadata": {},
   "outputs": [],
   "source": [
    "def calc_lps(pattern):\n",
    "    n_elems = len(pattern)\n",
    "    lps = [0] * n_elems\n",
    "    j, i = 0, 1\n",
    "\n",
    "    while i < n_elems:\n",
    "        if pattern[i] == pattern[j]:\n",
    "            j += 1\n",
    "            lps[i] = j\n",
    "            i += 1\n",
    "        else:\n",
    "            if j > 0:\n",
    "                j = lps[j - 1]\n",
    "            else:\n",
    "                lps[i] = 0\n",
    "                i += 1\n",
    "    \n",
    "    return lps\n",
    "\n",
    "def kmp_search(text, pattern):\n",
    "    lps = calc_lps(pattern)\n",
    "\n",
    "    i = j = 0\n",
    "\n",
    "    while j < len(pattern):\n",
    "        if i == len(text):\n",
    "            return False\n",
    "\n",
    "        if pattern[i] == pattern[j]:\n",
    "            i += 1\n",
    "            j += 1\n",
    "        else:\n",
    "            if j > 0:\n",
    "                j = lps[j - 1]\n",
    "            else:\n",
    "                i += 1\n",
    "    \n",
    "    return True\n",
    "\n",
    "assert calc_lps(\"ATAG\") == [0, 0, 1, 0]\n",
    "assert calc_lps(\"aabaabaaa\") == [0, 1, 0, 1, 2, 3, 4, 5, 2]\n",
    "assert calc_lps(\"abcdabca\") == [0, 0, 0, 0, 1, 2, 3, 1]\n",
    "assert calc_lps(\"ACACAGT\") == [0, 0, 1, 2, 3, 0, 0]\n",
    "assert calc_lps(\"abcdef\") == [0, 0, 0, 0, 0, 0]\n",
    "\n",
    "calc_lps(list(reversed(\"000345345345\")))\n"
   ]
  },
  {
   "cell_type": "code",
   "execution_count": null,
   "metadata": {},
   "outputs": [],
   "source": []
  }
 ],
 "metadata": {
  "kernelspec": {
   "display_name": "ml",
   "language": "python",
   "name": "python3"
  },
  "language_info": {
   "codemirror_mode": {
    "name": "ipython",
    "version": 3
   },
   "file_extension": ".py",
   "mimetype": "text/x-python",
   "name": "python",
   "nbconvert_exporter": "python",
   "pygments_lexer": "ipython3",
   "version": "3.10.6"
  },
  "orig_nbformat": 4
 },
 "nbformat": 4,
 "nbformat_minor": 2
}
