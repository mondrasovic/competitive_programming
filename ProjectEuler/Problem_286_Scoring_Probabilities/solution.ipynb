{
 "cells": [
  {
   "cell_type": "code",
   "execution_count": null,
   "metadata": {},
   "outputs": [],
   "source": [
    "def calc_score_probability(target_score, q_coef, max_distance):\n",
    "    memo = {}\n",
    "\n",
    "    def _calc(target_score, current_distance):\n",
    "        key = (target_score, current_distance)\n",
    "        stored_res = memo.get(key)\n",
    "        if stored_res:\n",
    "            return stored_res\n",
    "\n",
    "        if current_distance == 0:\n",
    "            return float(target_score == 0)\n",
    "        \n",
    "        ratio = current_distance / q_coef\n",
    "        prob = (\n",
    "            (1.0 - ratio) * _calc(target_score - 1, current_distance - 1) + \n",
    "            ratio * _calc(target_score, current_distance - 1)\n",
    "        )\n",
    "        memo[key] = prob\n",
    "        return prob\n",
    "\n",
    "    return _calc(target_score, max_distance)\n",
    "\n",
    "calc_score_probability(2, 4, 3)"
   ]
  },
  {
   "cell_type": "code",
   "execution_count": null,
   "metadata": {},
   "outputs": [],
   "source": [
    "import numpy as np\n",
    "import matplotlib.pyplot as plt\n",
    "\n",
    "%matplotlib inline\n",
    "\n",
    "xs = np.linspace(51, 60, 9)\n",
    "ys = np.asarray(\n",
    "    [calc_score_probability(target_score=20, q_coef=q_coef, max_distance=50) for q_coef in xs]\n",
    ")\n",
    "\n",
    "plt.plot(xs, ys)"
   ]
  },
  {
   "cell_type": "code",
   "execution_count": null,
   "metadata": {},
   "outputs": [],
   "source": [
    "calc_score_probability(target_score=10, q_coef=22, max_distance=20)"
   ]
  },
  {
   "cell_type": "code",
   "execution_count": null,
   "metadata": {},
   "outputs": [],
   "source": [
    "def bisect_func_x(min_x, max_x, target_y, func, tolerance=1e-11):\n",
    "    lower_x, upper_x = min_x, max_x\n",
    "    x = lower_x\n",
    "\n",
    "    while abs(func(x) - target_y) > tolerance:\n",
    "        mid = (lower_x + upper_x) / 2.0\n",
    "\n",
    "        lower_y = func(lower_x)\n",
    "        min_y = func(mid)\n",
    "\n",
    "        "
   ]
  }
 ],
 "metadata": {
  "kernelspec": {
   "display_name": "ml",
   "language": "python",
   "name": "python3"
  },
  "language_info": {
   "codemirror_mode": {
    "name": "ipython",
    "version": 3
   },
   "file_extension": ".py",
   "mimetype": "text/x-python",
   "name": "python",
   "nbconvert_exporter": "python",
   "pygments_lexer": "ipython3",
   "version": "3.10.6"
  },
  "orig_nbformat": 4
 },
 "nbformat": 4,
 "nbformat_minor": 2
}
