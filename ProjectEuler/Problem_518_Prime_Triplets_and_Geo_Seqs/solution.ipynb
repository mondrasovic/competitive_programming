{
 "cells": [
  {
   "cell_type": "code",
   "execution_count": 21,
   "metadata": {},
   "outputs": [],
   "source": [
    "import math\n",
    "\n",
    "import more_itertools\n",
    "\n",
    "LIMIT = 10 ** 8\n",
    "\n",
    "primes = set(more_itertools.sieve(LIMIT))\n",
    "is_prime = [i in primes for i in range(LIMIT + 1)]"
   ]
  },
  {
   "cell_type": "markdown",
   "metadata": {},
   "source": [
    "$$r = \\frac{c + 1}{b + 1} = \\frac{b + 1}{a + 1} = \\frac{z}{y}$$\n",
    "\n",
    "We can then take the following step:\n",
    "$$\\frac{c + 1}{b + 1} \\cdot \\frac{b + 1}{a + 1} = \\frac{c + 1}{a + 1} = \\frac{z^2}{y^2}$$"
   ]
  },
  {
   "cell_type": "code",
   "execution_count": 23,
   "metadata": {},
   "outputs": [
    {
     "name": "stdout",
     "output_type": "stream",
     "text": [
      "Result: 100315739184392\n"
     ]
    }
   ],
   "source": [
    "result = 0\n",
    "\n",
    "for z in range(2, math.isqrt(LIMIT) + 1):\n",
    "    for y in range(1, z):\n",
    "        if math.gcd(y, z) != 1:\n",
    "            continue\n",
    "\n",
    "        for x in range(1, (LIMIT // z ** 2) + 1):\n",
    "            a = x * y * y - 1\n",
    "            b = z * x * y - 1\n",
    "            c = z * z * x - 1\n",
    "\n",
    "            if is_prime[a] and is_prime[b] and is_prime[c]:\n",
    "                result += a + b + c\n",
    "\n",
    "print(f\"Result: {result}\")"
   ]
  }
 ],
 "metadata": {
  "kernelspec": {
   "display_name": "ml",
   "language": "python",
   "name": "python3"
  },
  "language_info": {
   "codemirror_mode": {
    "name": "ipython",
    "version": 3
   },
   "file_extension": ".py",
   "mimetype": "text/x-python",
   "name": "python",
   "nbconvert_exporter": "python",
   "pygments_lexer": "ipython3",
   "version": "3.10.12"
  }
 },
 "nbformat": 4,
 "nbformat_minor": 2
}
