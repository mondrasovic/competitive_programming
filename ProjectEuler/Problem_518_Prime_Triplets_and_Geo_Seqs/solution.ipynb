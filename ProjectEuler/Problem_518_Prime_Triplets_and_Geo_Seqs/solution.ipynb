{
 "cells": [
  {
   "cell_type": "code",
   "execution_count": 1,
   "metadata": {},
   "outputs": [],
   "source": [
    "%load_ext cython"
   ]
  },
  {
   "cell_type": "code",
   "execution_count": 18,
   "metadata": {},
   "outputs": [
    {
     "name": "stdout",
     "output_type": "stream",
     "text": [
      "2 5 11\n",
      "2 11 47\n",
      "5 11 23\n",
      "5 17 53\n",
      "7 23 71\n",
      "11 23 47\n",
      "Solution: 374\n"
     ]
    }
   ],
   "source": [
    "# %%cython\n",
    "\n",
    "import itertools\n",
    "import more_itertools\n",
    "\n",
    "LIMIT = 100\n",
    "\n",
    "primes = list(more_itertools.sieve(LIMIT))\n",
    "primes_set = set(primes)\n",
    "\n",
    "result_sum = 0\n",
    "\n",
    "for a in primes:\n",
    "    for k in itertools.count(start=1):\n",
    "        b = k * (a + 1) - 1\n",
    "        if b >= LIMIT:\n",
    "            break\n",
    "        if b not in primes_set:\n",
    "            continue\n",
    "        c = ((b + 1) ** 2 / (a + 1)) - 1\n",
    "        c_int = int(c)\n",
    "        if (abs(c_int - c) < 1e-8) and (c_int in primes_set):\n",
    "            # r_1 = (c + 1) / (b + 1)\n",
    "            # r_2 = (b + 1) / (a + 1)\n",
    "            # print(r_1, r_2)\n",
    "            if a < b < c_int:\n",
    "                print(a, b, c_int)\n",
    "                result_sum += a + b + c_int\n",
    "\n",
    "print(f\"Solution: {result_sum}\")"
   ]
  },
  {
   "cell_type": "code",
   "execution_count": null,
   "metadata": {},
   "outputs": [],
   "source": [
    "%%cython\n",
    "\n",
    "import more_itertools\n",
    "\n",
    "LIMIT = 100\n",
    "\n",
    "primes = list(more_itertools.sieve(LIMIT))\n",
    "primes_set = set(primes)\n",
    "\n",
    "result_sum = 0\n",
    "\n",
    "for i, a in enumerate(primes):\n",
    "    for j in range(i + 1, len(primes)):\n",
    "        b = primes[j]\n",
    "        c = ((b + 1) ** 2 / (a + 1)) - 1\n",
    "        c_int = int(c)\n",
    "        if (abs(c_int - c) < 1e-8) and ((c_int := int(c)) in primes_set):\n",
    "            result_sum += a + b + c_int\n",
    "\n",
    "print(f\"Solution: {result_sum}\")\n"
   ]
  },
  {
   "cell_type": "code",
   "execution_count": 5,
   "metadata": {},
   "outputs": [
    {
     "data": {
      "text/plain": [
       "5761455"
      ]
     },
     "execution_count": 5,
     "metadata": {},
     "output_type": "execute_result"
    }
   ],
   "source": [
    "len(list(more_itertools.sieve(10 ** 8)))"
   ]
  },
  {
   "cell_type": "code",
   "execution_count": null,
   "metadata": {},
   "outputs": [],
   "source": [
    "# def is_square(x):\n",
    "#     return int(round(math.sqrt(x))) ** 2 == x\n",
    "\n",
    "        # tmp = 1 + (k + 1) * a + k\n",
    "        # k += 1\n",
    "        # if not is_square(tmp):\n",
    "        #     continue\n",
    "        # b = int(math.sqrt(tmp)) - 1\n",
    "        # if b >= LIMIT:\n",
    "        #     break\n",
    "        # if b not in primes_set:\n",
    "        #     continue\n",
    "        # tmp = (b ** 2 + 2 * b - a)\n",
    "        # if tmp % (a + 1) != 0:\n",
    "        #     continue\n",
    "        # c = (tmp // (a + 1)) - 1\n",
    "        # if c not in primes_set:\n",
    "        #     continue\n"
   ]
  }
 ],
 "metadata": {
  "kernelspec": {
   "display_name": "ml",
   "language": "python",
   "name": "python3"
  },
  "language_info": {
   "codemirror_mode": {
    "name": "ipython",
    "version": 3
   },
   "file_extension": ".py",
   "mimetype": "text/x-python",
   "name": "python",
   "nbconvert_exporter": "python",
   "pygments_lexer": "ipython3",
   "version": "3.10.12"
  }
 },
 "nbformat": 4,
 "nbformat_minor": 2
}
