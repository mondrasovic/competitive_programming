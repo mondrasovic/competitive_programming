{
 "cells": [
  {
   "cell_type": "code",
   "execution_count": null,
   "metadata": {},
   "outputs": [],
   "source": [
    "import collections\n",
    "import numpy as np\n",
    "\n",
    "def generate_possible_digit_sums(\n",
    "    num: str, digit_sums: list[list[str]], current_digit_sum: list[str]\n",
    ") -> None:\n",
    "    if len(num) == 0:\n",
    "        digit_sums.append(current_digit_sum[:])\n",
    "    elif len(num) == 1:\n",
    "        current_digit_sum.append(num)\n",
    "        generate_possible_digit_sums(\"\", digit_sums, current_digit_sum)\n",
    "        current_digit_sum.pop()\n",
    "    else:\n",
    "        for i in range(1, len(num)):\n",
    "            left_part = num[0:i]\n",
    "            right_part = num[i:]\n",
    "            print(f\"{left_part} | {right_part}\")\n",
    "            current_digit_sum.append(left_part)\n",
    "            generate_possible_digit_sums(right_part, digit_sums, current_digit_sum)\n",
    "            current_digit_sum.pop()\n",
    "\n",
    "digit_sums = []\n",
    "generate_possible_digit_sums(np.base_repr(123, 10), digit_sums, current_digit_sum=[])\n",
    "\n",
    "# def iter_possible_digit_sums(num, base):\n",
    "#     queue = collections.deque([(np.base_repr(num, base), \"\")])\n",
    "#     while queue:\n",
    "#         curr_num, digit_sums = queue.popleft()\n",
    "#         print(f\"{curr_num} | {digit_sums}\")\n",
    "#         if curr_num:\n",
    "#             for i in range(1, len(curr_num)):\n",
    "#                 left_part = curr_num[:i]\n",
    "#                 right_part = curr_num[i:]\n",
    "#                 queue.append((left_part, f\"{right_part} + {digit_sums}\"))\n",
    "#         else:\n",
    "#             yield digit_sums\n",
    "\n",
    "# for digit_sum in iter_possible_digit_sums(12, 10):\n",
    "#     print(digit_sum)\n",
    "for digit_sum in digit_sums:\n",
    "    print(\" + \".join(digit_sum))"
   ]
  },
  {
   "cell_type": "code",
   "execution_count": null,
   "metadata": {},
   "outputs": [],
   "source": [
    "np.base_repr(10, 10)"
   ]
  },
  {
   "cell_type": "code",
   "execution_count": null,
   "metadata": {},
   "outputs": [],
   "source": [
    "import functools\n",
    "\n",
    "def groups(d, c = []):\n",
    "  if not d:\n",
    "     yield c\n",
    "  else:\n",
    "    if c:\n",
    "       yield from groups(d[1:], c=c[:-1] + [f\"{c[-1]}{d[0]}\"])\n",
    "    yield from groups(d[1:], c + [d[0]])\n",
    "\n",
    "def get_possible_sums(num_str):\n",
    "   for group in groups(num_str):\n",
    "      if len(group) > 1:\n",
    "         print(group)\n",
    "         yield sum(map(int, group))\n",
    "\n",
    "# @functools.cache\n",
    "# def count_min_digit_sum_reduction_steps(num, base):\n",
    "#    num_repr = np.base_repr(num, base)\n",
    "#    print(num, num_repr)\n",
    "#    if len(num_repr) == 1:\n",
    "#       return 0\n",
    "#    return 1 + min(\n",
    "#       count_min_digit_sum_reduction_steps(sum_, base) for sum_ in get_possible_sums(num_repr)\n",
    "#    )\n",
    "\n",
    "# assert count_min_digit_sum_reduction_steps(10, 10) == 1\n",
    "# assert count_min_digit_sum_reduction_steps(8, 10) == 0\n",
    "# assert count_min_digit_sum_reduction_steps(99999, 10) == 2\n",
    "\n",
    "# result_sum = 0\n",
    "\n",
    "# for num in range(1, 101):\n",
    "#    base_10_step_count = count_min_digit_sum_reduction_steps(num, 10)\n",
    "#    base_3_step_count = count_min_digit_sum_reduction_steps(num, 3)\n",
    "#    if base_10_step_count == base_3_step_count:\n",
    "#       print(num)\n",
    "#       result_sum += num\n",
    "\n",
    "# result_sum\n",
    "# count_min_digit_sum_reduction_steps(10, 3)"
   ]
  },
  {
   "cell_type": "code",
   "execution_count": 55,
   "metadata": {},
   "outputs": [
    {
     "data": {
      "text/plain": [
       "2361"
      ]
     },
     "execution_count": 55,
     "metadata": {},
     "output_type": "execute_result"
    }
   ],
   "source": [
    "import networkx as nx\n",
    "\n",
    "def groups(d, c = []):\n",
    "  if not d:\n",
    "     yield c\n",
    "  else:\n",
    "    if c:\n",
    "       yield from groups(d[1:], c=c[:-1] + [f\"{c[-1]}{d[0]}\"])\n",
    "    yield from groups(d[1:], c + [d[0]])\n",
    "\n",
    "def get_possible_sums(num_str):\n",
    "   for group in groups(num_str):\n",
    "        if len(group) > 1:\n",
    "            yield sum(map(int, group))\n",
    "\n",
    "def generate_graph(limit, base):\n",
    "    G = nx.Graph()\n",
    "\n",
    "    edges = []\n",
    "\n",
    "    for num in range(1, limit + 1):\n",
    "        num_repr = np.base_repr(num, base)\n",
    "        if len(num_repr) == 1:\n",
    "            edges.append((num_repr, \"\"))\n",
    "        else:\n",
    "            for sum_ in get_possible_sums(num_repr):\n",
    "                edges.append((num_repr, np.base_repr(sum_, base)))\n",
    "        \n",
    "    G.add_edges_from(edges)\n",
    "\n",
    "    return G\n",
    "\n",
    "LIMIT = 100\n",
    "TARGET_NODES = set(map(str, range(0, 10))) | {\"\"}\n",
    "\n",
    "def count_min_digit_sum_reduction_steps(num, base, G_base_n):\n",
    "    start_node = np.base_repr(num, base)\n",
    "    shortest_paths = nx.single_source_shortest_path_length(G_base_n, source=start_node, cutoff=None)\n",
    "    return min(length for node, length in shortest_paths.items() if node in TARGET_NODES)\n",
    "\n",
    "G_base_10 = generate_graph(LIMIT, 10)\n",
    "G_base_3 = generate_graph(LIMIT, 3)\n",
    "\n",
    "result_sum = 0\n",
    "\n",
    "for num in range(1, LIMIT + 1):\n",
    "    base_10_step_count = count_min_digit_sum_reduction_steps(num, 10, G_base_10)\n",
    "    base_3_step_count = count_min_digit_sum_reduction_steps(num, 3, G_base_3)\n",
    "    if base_10_step_count == base_3_step_count:\n",
    "       result_sum += num\n",
    "\n",
    "result_sum\n",
    "# start_node = \"10\"\n",
    "# target_nodes = set(map(str, range(0, 10)))\n",
    "\n",
    "# # Perform Dijkstra's algorithm\n",
    "# shortest_paths = nx.single_source_shortest_path_length(G_base_10, source=start_node, cutoff=None)\n",
    "\n",
    "# # Filter the results for the target nodes\n",
    "# target_paths = {node: length for node, length in shortest_paths.items() if node in target_nodes}\n",
    "\n",
    "# # Print the shortest paths to the target nodes\n",
    "# for node, length in target_paths.items():\n",
    "#     print(f\"Shortest path from node {start_node} to node {node}: {length} steps\")"
   ]
  },
  {
   "cell_type": "code",
   "execution_count": 53,
   "metadata": {},
   "outputs": [
    {
     "data": {
      "text/plain": [
       "{'', '0', '1', '2', '3', '4', '5', '6', '7', '8', '9'}"
      ]
     },
     "execution_count": 53,
     "metadata": {},
     "output_type": "execute_result"
    }
   ],
   "source": []
  },
  {
   "cell_type": "code",
   "execution_count": 51,
   "metadata": {},
   "outputs": [
    {
     "data": {
      "image/png": "[encoded data removed]",
      "text/plain": [
       "<Figure size 640x480 with 1 Axes>"
      ]
     },
     "metadata": {},
     "output_type": "display_data"
    }
   ],
   "source": [
    "import matplotlib.pyplot as plt\n",
    "\n",
    "pos = nx.spring_layout(G_base_3)\n",
    "nx.draw(G_base_3, pos, with_labels=True, font_weight='bold', node_size=700, node_color='skyblue', font_size=8, font_color='black', edge_color='gray', linewidths=1, alpha=0.7)\n",
    "plt.show()"
   ]
  }
 ],
 "metadata": {
  "kernelspec": {
   "display_name": "ml",
   "language": "python",
   "name": "python3"
  },
  "language_info": {
   "codemirror_mode": {
    "name": "ipython",
    "version": 3
   },
   "file_extension": ".py",
   "mimetype": "text/x-python",
   "name": "python",
   "nbconvert_exporter": "python",
   "pygments_lexer": "ipython3",
   "version": "3.10.12"
  },
  "orig_nbformat": 4
 },
 "nbformat": 4,
 "nbformat_minor": 2
}
