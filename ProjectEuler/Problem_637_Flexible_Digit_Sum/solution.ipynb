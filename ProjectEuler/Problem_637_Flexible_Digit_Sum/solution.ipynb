{
 "cells": [
  {
   "cell_type": "code",
   "execution_count": 16,
   "metadata": {},
   "outputs": [
    {
     "name": "stdout",
     "output_type": "stream",
     "text": [
      "1 | 23\n",
      "2 | 3\n",
      "12 | 3\n",
      "1 + 2 + 3\n",
      "12 + 3\n"
     ]
    }
   ],
   "source": [
    "import collections\n",
    "import numpy as np\n",
    "\n",
    "def generate_possible_digit_sums(\n",
    "    num: str, digit_sums: list[list[str]], current_digit_sum: list[str]\n",
    ") -> None:\n",
    "    if len(num) == 0:\n",
    "        digit_sums.append(current_digit_sum[:])\n",
    "    elif len(num) == 1:\n",
    "        current_digit_sum.append(num)\n",
    "        generate_possible_digit_sums(\"\", digit_sums, current_digit_sum)\n",
    "        current_digit_sum.pop()\n",
    "    else:\n",
    "        for i in range(1, len(num)):\n",
    "            left_part = num[0:i]\n",
    "            right_part = num[i:]\n",
    "            print(f\"{left_part} | {right_part}\")\n",
    "            current_digit_sum.append(left_part)\n",
    "            generate_possible_digit_sums(right_part, digit_sums, current_digit_sum)\n",
    "            current_digit_sum.pop()\n",
    "\n",
    "digit_sums = []\n",
    "generate_possible_digit_sums(np.base_repr(123, 10), digit_sums, current_digit_sum=[])\n",
    "\n",
    "# def iter_possible_digit_sums(num, base):\n",
    "#     queue = collections.deque([(np.base_repr(num, base), \"\")])\n",
    "#     while queue:\n",
    "#         curr_num, digit_sums = queue.popleft()\n",
    "#         print(f\"{curr_num} | {digit_sums}\")\n",
    "#         if curr_num:\n",
    "#             for i in range(1, len(curr_num)):\n",
    "#                 left_part = curr_num[:i]\n",
    "#                 right_part = curr_num[i:]\n",
    "#                 queue.append((left_part, f\"{right_part} + {digit_sums}\"))\n",
    "#         else:\n",
    "#             yield digit_sums\n",
    "\n",
    "# for digit_sum in iter_possible_digit_sums(12, 10):\n",
    "#     print(digit_sum)\n",
    "for digit_sum in digit_sums:\n",
    "    print(\" + \".join(digit_sum))"
   ]
  },
  {
   "cell_type": "code",
   "execution_count": 2,
   "metadata": {},
   "outputs": [
    {
     "data": {
      "text/plain": [
       "'10'"
      ]
     },
     "execution_count": 2,
     "metadata": {},
     "output_type": "execute_result"
    }
   ],
   "source": [
    "np.base_repr(10, 10)"
   ]
  },
  {
   "cell_type": "code",
   "execution_count": 21,
   "metadata": {},
   "outputs": [
    {
     "name": "stdout",
     "output_type": "stream",
     "text": [
      "['1234']\n",
      "['123', '4']\n",
      "['12', '34']\n",
      "['12', '3', '4']\n",
      "['1', '234']\n",
      "['1', '23', '4']\n",
      "['1', '2', '34']\n",
      "['1', '2', '3', '4']\n"
     ]
    }
   ],
   "source": [
    "def groups(d, c = []):\n",
    "  if not d:\n",
    "     yield c\n",
    "  else:\n",
    "    if c:\n",
    "       yield from groups(d[1:], c=c[:-1] + [f\"{c[-1]}{d[0]}\"])\n",
    "    yield from groups(d[1:], c + [d[0]])\n",
    "\n",
    "data = [\"1\", \"2\", \"3\", \"4\"]\n",
    "for group in groups(data):\n",
    "   print(group)"
   ]
  }
 ],
 "metadata": {
  "kernelspec": {
   "display_name": "ml",
   "language": "python",
   "name": "python3"
  },
  "language_info": {
   "codemirror_mode": {
    "name": "ipython",
    "version": 3
   },
   "file_extension": ".py",
   "mimetype": "text/x-python",
   "name": "python",
   "nbconvert_exporter": "python",
   "pygments_lexer": "ipython3",
   "version": "3.10.12"
  },
  "orig_nbformat": 4
 },
 "nbformat": 4,
 "nbformat_minor": 2
}
