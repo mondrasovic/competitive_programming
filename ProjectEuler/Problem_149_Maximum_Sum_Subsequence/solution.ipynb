{
 "cells": [
  {
   "cell_type": "code",
   "execution_count": 42,
   "metadata": {},
   "outputs": [],
   "source": [
    "import sys\n",
    "import numpy as np\n",
    "\n",
    "N_ROWS = N_COLS = 2000\n",
    "\n",
    "grid = np.empty(shape=N_ROWS * N_COLS, dtype=np.longlong)\n",
    "\n",
    "for k in range(1, len(grid) + 1):\n",
    "    if k <= 55:\n",
    "        grid[k - 1] = ((100_003 - 200_003 * k + 300_007 * (k ** 3)) % 1_000_000) - 500_000\n",
    "    else:\n",
    "        grid[k - 1] = ((grid[k - 24 - 1] + grid[k - 55 - 1] + 1_000_000) % 1_000_000) - 500_000\n",
    "\n",
    "grid = grid.reshape(N_ROWS, N_COLS)\n",
    "\n",
    "assert grid[0][9] == -393_027\n",
    "assert grid[0][99] == 86613"
   ]
  },
  {
   "cell_type": "code",
   "execution_count": 47,
   "metadata": {},
   "outputs": [
    {
     "name": "stdout",
     "output_type": "stream",
     "text": [
      "Solution: 52852124\n"
     ]
    }
   ],
   "source": [
    "def max_sequence_sum(arr):\n",
    "    global_max = local_max = -1_000_000\n",
    "    for val in arr:\n",
    "        local_max = max(local_max + val, val)\n",
    "        global_max = max(global_max, local_max)\n",
    "    return global_max\n",
    "\n",
    "rows_max = np.apply_along_axis(max_sequence_sum, axis=1, arr=grid).max()\n",
    "cols_max = np.apply_along_axis(max_sequence_sum, axis=0, arr=grid).max()\n",
    "\n",
    "assert N_ROWS == N_COLS\n",
    "diag_max = max(\n",
    "    max_sequence_sum(np.diagonal(grid, offset)) for offset in range(-(N_ROWS - 1), N_ROWS)\n",
    ")\n",
    "grid_flipped = np.flipud(grid)\n",
    "anti_diag_max = max(\n",
    "    max_sequence_sum(np.diagonal(grid_flipped, offset)) for offset in range(-(N_ROWS - 1), N_ROWS)\n",
    ")\n",
    "\n",
    "overall_max = max(rows_max, cols_max, diag_max, anti_diag_max)\n",
    "print(f\"Solution: {overall_max}\")"
   ]
  }
 ],
 "metadata": {
  "kernelspec": {
   "display_name": "ml",
   "language": "python",
   "name": "python3"
  },
  "language_info": {
   "codemirror_mode": {
    "name": "ipython",
    "version": 3
   },
   "file_extension": ".py",
   "mimetype": "text/x-python",
   "name": "python",
   "nbconvert_exporter": "python",
   "pygments_lexer": "ipython3",
   "version": "3.10.12"
  }
 },
 "nbformat": 4,
 "nbformat_minor": 2
}
