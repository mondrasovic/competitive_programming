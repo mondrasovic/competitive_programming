{
 "metadata": {
  "language_info": {
   "codemirror_mode": {
    "name": "ipython",
    "version": 3
   },
   "file_extension": ".py",
   "mimetype": "text/x-python",
   "name": "python",
   "nbconvert_exporter": "python",
   "pygments_lexer": "ipython3",
   "version": "3.7.7"
  },
  "orig_nbformat": 2,
  "kernelspec": {
   "name": "python377jvsc74a57bd08423d299652f78eb0f125f4787854431abc24c3cd5da653d06c6efd34d750ecd",
   "display_name": "Python 3.7.7 64-bit"
  }
 },
 "nbformat": 4,
 "nbformat_minor": 2,
 "cells": [
  {
   "cell_type": "code",
   "execution_count": 5,
   "metadata": {},
   "outputs": [
    {
     "output_type": "stream",
     "name": "stdout",
     "text": [
      "Player 1 wins 376 times.\n"
     ]
    }
   ],
   "source": [
    "from collections import Counter\n",
    "from enum import IntEnum, unique\n",
    "\n",
    "@unique\n",
    "class Quality(IntEnum):\n",
    "    high_card = 1\n",
    "    pair = 2\n",
    "    two_pairs = 3\n",
    "    three = 4\n",
    "    straight = 5\n",
    "    flush = 6\n",
    "    full_house = 7\n",
    "    four = 8\n",
    "    straight_flush = 9\n",
    "\n",
    "def canonical(hand):\n",
    "    flush = (len(set(suit for _, suit in hand)) == 1)\n",
    "    ranks = sorted('--23456789TJQKA'.find(value) for value, _ in hand)\n",
    "    \n",
    "    if ranks == [2, 3, 4, 5, 14]:\n",
    "        ranks = [1, 2, 3, 4, 5]\n",
    "    straight = (ranks == [rank for rank in range(ranks[0], ranks[0] + 5)])\n",
    "    \n",
    "    counter = Counter(ranks)\n",
    "    counts = sorted(counter.values())\n",
    "    distinct_ranks = sorted(counter, reverse=True, key=lambda r: (counter[r], r))\n",
    "\n",
    "    if flush and straight:       q = Quality.straight_flush\n",
    "    elif counts == [1, 4]:       q = Quality.four\n",
    "    elif counts == [2, 3]:       q = Quality.full_house\n",
    "    elif flush:                  q = Quality.flush\n",
    "    elif straight:               q = Quality.straight\n",
    "    elif counts == [1, 1, 3]:    q = Quality.three\n",
    "    elif counts == [1, 2, 2]:    q = Quality.two_pairs\n",
    "    elif counts == [1, 1, 1, 2]: q = Quality.pair\n",
    "    else:                        q = Quality.high_card\n",
    "\n",
    "    return q, distinct_ranks\n",
    "\n",
    "with open(\"poker.txt\", \"rt\") as in_file:\n",
    "    player_1_wins = 0\n",
    "    for line in in_file.readlines():\n",
    "        cards = line.split()\n",
    "        hand_1, hand_2 = cards[:5], cards[5:]\n",
    "        score_1, score_2 = canonical(hand_1), canonical(hand_2)\n",
    "        player_1_wins += 1 * (score_1 > score_2)\n",
    "    print(f\"Player 1 wins {player_1_wins} times.\")"
   ]
  },
  {
   "cell_type": "code",
   "execution_count": 3,
   "metadata": {},
   "outputs": [
    {
     "output_type": "execute_result",
     "data": {
      "text/plain": [
       "[(1, 2, 3), (1, 2, 4), (2, 1), (2, 1, 3), (5,)]"
      ]
     },
     "metadata": {},
     "execution_count": 3
    }
   ],
   "source": [
    "vals = [(1, 2, 3), (1, 2, 4), (2, 1, 3), (2, 1), (5,)]\n",
    "sorted(vals)"
   ]
  }
 ]
}