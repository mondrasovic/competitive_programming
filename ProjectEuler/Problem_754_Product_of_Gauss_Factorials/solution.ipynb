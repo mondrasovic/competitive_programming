{
 "cells": [
  {
   "cell_type": "code",
   "execution_count": 43,
   "metadata": {},
   "outputs": [],
   "source": [
    "import numpy as np\n",
    "from numba import jit\n",
    "from sympy import sieve, mod_inverse"
   ]
  },
  {
   "cell_type": "code",
   "execution_count": 47,
   "metadata": {},
   "outputs": [],
   "source": [
    "def build_totient_table(max_num):\n",
    "    return list(sieve.totientrange(1, max_num + 1))\n",
    "\n",
    "def build_fact_n_div_n_pow_n_mod_m_table(max_num, modulus):\n",
    "    results = [1] * (max_num + 1)\n",
    "    factorials = results[:]\n",
    "\n",
    "    for num in range(2, len(results)):\n",
    "        factorials[num] = (factorials[num - 1] * num) % modulus\n",
    "        results[num] = (factorials[num] * mod_inverse(pow(num, num, modulus), modulus)) % modulus\n",
    "\n",
    "    return results\n",
    "\n",
    "@jit\n",
    "def build_mobius_table(max_num):\n",
    "    mu = np.ones(max_num + 1, dtype=np.int64)\n",
    "    mu[0] = 0\n",
    "\n",
    "    for i in range(2, int(np.sqrt(max_num)) + 1):\n",
    "        if mu[i] == 1:\n",
    "            for j in range(1, (max_num // i) + 1):\n",
    "                mu[i * j] *= -i\n",
    "            for j in range(1, (max_num // (i ** 2)) + 1):\n",
    "                mu[i * i * j] = 0\n",
    "\n",
    "    for i in range(2, max_num + 1):\n",
    "        if mu[i] == i:\n",
    "            mu[i] = 1\n",
    "        elif mu[i] == -i:\n",
    "            mu[i] = -1\n",
    "        elif mu[i] < 0:\n",
    "            mu[i] = 1\n",
    "        elif mu[i] > 0:\n",
    "            mu[i] = -1\n",
    "\n",
    "    return mu\n",
    "\n",
    "def build_divisors_table(max_num):\n",
    "    divisors = [[] for _ in range(max_num + 1)]\n",
    "\n",
    "    for divisor in range(1, len(divisors)):\n",
    "        for i in range(divisor, len(divisors), divisor):\n",
    "            divisors[i].append(divisor)\n",
    "    \n",
    "    return divisors"
   ]
  },
  {
   "cell_type": "code",
   "execution_count": 73,
   "metadata": {},
   "outputs": [
    {
     "name": "stdout",
     "output_type": "stream",
     "text": [
      "1 1 1\n",
      "g(1) = 1\n",
      "2 1 1\n",
      "g(2) = 2\n",
      "9 2 1\n",
      "g(3) = 9\n",
      "16 2 1\n",
      "g(4) = 16\n"
     ]
    }
   ],
   "source": [
    "class GaussFactorial:\n",
    "    def __init__(self, max_num, modulus):\n",
    "        self.modulus = modulus\n",
    "        self.totient_table = build_totient_table(max_num)\n",
    "        self.fact_div_results = build_fact_n_div_n_pow_n_mod_m_table(max_num, self.modulus)\n",
    "        self.mobius_table = build_mobius_table(max_num)\n",
    "        self.divisors_table = build_divisors_table(max_num)\n",
    "    \n",
    "    def __call__(self, num):\n",
    "        n_pow_phi_n = pow(num, self.totient_table[num - 1], self.modulus)\n",
    "        divisors_prod = 1\n",
    "        for divisor in self.divisors_table[num]:\n",
    "            current_value = pow(\n",
    "                self.fact_div_results[num], int(self.mobius_table[num // divisor]), self.modulus\n",
    "            )\n",
    "            divisors_prod = (divisors_prod * current_value) % self.modulus\n",
    "        print(n_pow_phi_n, self.totient_table[num - 1], divisors_prod)\n",
    "        return (n_pow_phi_n * divisors_prod) % self.modulus\n",
    "    \n",
    "    def product_in_range(self, min_num, max_num):\n",
    "        result = 1\n",
    "        for num in range(min_num, max_num + 1):\n",
    "            result = (result * self(num)) % self.modulus\n",
    "        return result\n",
    "\n",
    "for num in range(1, 5):\n",
    "    print(f\"g({num}) = {GaussFactorial(num, 10 ** 9 + 7)(num)}\")"
   ]
  },
  {
   "cell_type": "code",
   "execution_count": 70,
   "metadata": {},
   "outputs": [
    {
     "data": {
      "text/plain": [
       "1"
      ]
     },
     "execution_count": 70,
     "metadata": {},
     "output_type": "execute_result"
    }
   ],
   "source": [
    "pow(3, 0, 5)"
   ]
  },
  {
   "cell_type": "code",
   "execution_count": null,
   "metadata": {},
   "outputs": [],
   "source": []
  },
  {
   "cell_type": "code",
   "execution_count": 59,
   "metadata": {},
   "outputs": [
    {
     "data": {
      "text/plain": [
       "70986767"
      ]
     },
     "execution_count": 59,
     "metadata": {},
     "output_type": "execute_result"
    }
   ],
   "source": [
    "MAX_NUM = 10 ** 4\n",
    "MOD = 10 ** 9 + 7\n",
    "\n",
    "gauss_factorial = GaussFactorial(MAX_NUM, MOD)\n",
    "gauss_factorial.product_in_range(1, MAX_NUM)"
   ]
  },
  {
   "cell_type": "code",
   "execution_count": 65,
   "metadata": {},
   "outputs": [
    {
     "data": {
      "text/plain": [
       "[1, 2, 4]"
      ]
     },
     "execution_count": 65,
     "metadata": {},
     "output_type": "execute_result"
    }
   ],
   "source": [
    "gauss_factorial.divisors_table[4]"
   ]
  },
  {
   "cell_type": "code",
   "execution_count": 66,
   "metadata": {},
   "outputs": [
    {
     "name": "stdout",
     "output_type": "stream",
     "text": [
      "1\n",
      "4\n",
      "500000044\n",
      "666666842\n",
      "41682943\n",
      "600002337\n",
      "320612901\n",
      "903291660\n",
      "306889692\n"
     ]
    }
   ],
   "source": [
    "for num in range(1, 10):\n",
    "    print(GaussFactorial(num, MOD)(num))"
   ]
  },
  {
   "cell_type": "code",
   "execution_count": 48,
   "metadata": {},
   "outputs": [
    {
     "data": {
      "text/plain": [
       "[[],\n",
       " [1],\n",
       " [1, 2],\n",
       " [1, 3],\n",
       " [1, 2, 4],\n",
       " [1, 5],\n",
       " [1, 2, 3, 6],\n",
       " [1, 7],\n",
       " [1, 2, 4, 8],\n",
       " [1, 3, 9],\n",
       " [1, 2, 5, 10]]"
      ]
     },
     "execution_count": 48,
     "metadata": {},
     "output_type": "execute_result"
    }
   ],
   "source": [
    "divisors_table"
   ]
  }
 ],
 "metadata": {
  "kernelspec": {
   "display_name": "ml",
   "language": "python",
   "name": "python3"
  },
  "language_info": {
   "codemirror_mode": {
    "name": "ipython",
    "version": 3
   },
   "file_extension": ".py",
   "mimetype": "text/x-python",
   "name": "python",
   "nbconvert_exporter": "python",
   "pygments_lexer": "ipython3",
   "version": "3.10.12"
  }
 },
 "nbformat": 4,
 "nbformat_minor": 2
}
