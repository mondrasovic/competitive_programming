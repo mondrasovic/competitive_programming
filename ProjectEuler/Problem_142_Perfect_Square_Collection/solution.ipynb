{
 "cells": [
  {
   "cell_type": "code",
   "execution_count": 1,
   "metadata": {},
   "outputs": [],
   "source": [
    "%load_ext cython"
   ]
  },
  {
   "cell_type": "code",
   "execution_count": 11,
   "metadata": {},
   "outputs": [
    {
     "ename": "KeyboardInterrupt",
     "evalue": "",
     "output_type": "error",
     "traceback": [
      "\u001b[0;31m---------------------------------------------------------------------------\u001b[0m",
      "\u001b[0;31mKeyboardInterrupt\u001b[0m                         Traceback (most recent call last)",
      "\u001b[1;32m/home/mond/projects/competitive_programming/ProjectEuler/Problem_142_Perfect_Square_Collection/solution.ipynb Cell 2\u001b[0m line \u001b[0;36m1\n\u001b[0;32m----> <a href='vscode-notebook-cell://wsl%2Bubuntu/home/mond/projects/competitive_programming/ProjectEuler/Problem_142_Perfect_Square_Collection/solution.ipynb#W1sdnNjb2RlLXJlbW90ZQ%3D%3D?line=0'>1</a>\u001b[0m get_ipython()\u001b[39m.\u001b[39;49mrun_cell_magic(\u001b[39m'\u001b[39;49m\u001b[39mcython\u001b[39;49m\u001b[39m'\u001b[39;49m, \u001b[39m'\u001b[39;49m\u001b[39m'\u001b[39;49m, \u001b[39m'\u001b[39;49m\u001b[39mimport sys\u001b[39;49m\u001b[39m\\n\u001b[39;49;00m\u001b[39m\\n\u001b[39;49;00m\u001b[39mN_SQUARES = 1_000\u001b[39;49m\u001b[39m\\n\u001b[39;49;00m\u001b[39msquares = [i ** 2 for i in range(1, N_SQUARES + 1)]\u001b[39;49m\u001b[39m\\n\u001b[39;49;00m\u001b[39msquares_set = set(squares)\u001b[39;49m\u001b[39m\\n\u001b[39;49;00m\u001b[39m\\n\u001b[39;49;00m\u001b[39mmin_sum = sys.maxsize\u001b[39;49m\u001b[39m\\n\u001b[39;49;00m\u001b[39mmin_x = min_y = min_z = None\u001b[39;49m\u001b[39m\\n\u001b[39;49;00m\u001b[39m\\n\u001b[39;49;00m\u001b[39mfor i, f in enumerate(squares):\u001b[39;49m\u001b[39m\\n\u001b[39;49;00m\u001b[39m    for j in range(i + 1, len(squares)):\u001b[39;49m\u001b[39m\\n\u001b[39;49;00m\u001b[39m        e = squares[j]\u001b[39;49m\u001b[39m\\n\u001b[39;49;00m\u001b[39m        if ((e - f) \u001b[39;49m\u001b[39m%\u001b[39;49m\u001b[39m 2 != 0) or ((e + f) \u001b[39;49m\u001b[39m%\u001b[39;49m\u001b[39m 2 != 0):\u001b[39;49m\u001b[39m\\n\u001b[39;49;00m\u001b[39m            continue\u001b[39;49m\u001b[39m\\n\u001b[39;49;00m\u001b[39m        z = (e - f) // 2\u001b[39;49m\u001b[39m\\n\u001b[39;49;00m\u001b[39m        y = (e + f) // 2\u001b[39;49m\u001b[39m\\n\u001b[39;49;00m\u001b[39m        for k in range(j, len(squares)):\u001b[39;49m\u001b[39m\\n\u001b[39;49;00m\u001b[39m            d = squares[k]\u001b[39;49m\u001b[39m\\n\u001b[39;49;00m\u001b[39m            if (2 * d + e - f) \u001b[39;49m\u001b[39m%\u001b[39;49m\u001b[39m 2 != 0:\u001b[39;49m\u001b[39m\\n\u001b[39;49;00m\u001b[39m                continue\u001b[39;49m\u001b[39m\\n\u001b[39;49;00m\u001b[39m            x = (2 * d + e - f) // 2\u001b[39;49m\u001b[39m\\n\u001b[39;49;00m\u001b[39m            # if ((x + z) not in squares_set) or ((x - y) not in squares_set) or ((x + y) not in squares_set):\u001b[39;49m\u001b[39m\\n\u001b[39;49;00m\u001b[39m            #     continue\u001b[39;49m\u001b[39m\\n\u001b[39;49;00m\u001b[39m            if (curr_sum := x + y + z) < min_sum:\u001b[39;49m\u001b[39m\\n\u001b[39;49;00m\u001b[39m                min_sum = curr_sum\u001b[39;49m\u001b[39m\\n\u001b[39;49;00m\u001b[39m                min_x, min_y, min_z = x, y, z\u001b[39;49m\u001b[39m\\n\u001b[39;49;00m\u001b[39m\\n\u001b[39;49;00m\u001b[39mprint(f\u001b[39;49m\u001b[39m\"\u001b[39;49m\u001b[39mSolution: \u001b[39;49m\u001b[39m{min_sum}\u001b[39;49;00m\u001b[39m = \u001b[39;49m\u001b[39m{min_x}\u001b[39;49;00m\u001b[39m + \u001b[39;49m\u001b[39m{min_y}\u001b[39;49;00m\u001b[39m + \u001b[39;49m\u001b[39m{min_z}\u001b[39;49;00m\u001b[39m\"\u001b[39;49m\u001b[39m)\u001b[39;49m\u001b[39m\\n\u001b[39;49;00m\u001b[39m'\u001b[39;49m)\n",
      "File \u001b[0;32m~/venvs/ml/lib/python3.10/site-packages/IPython/core/interactiveshell.py:2430\u001b[0m, in \u001b[0;36mInteractiveShell.run_cell_magic\u001b[0;34m(self, magic_name, line, cell)\u001b[0m\n\u001b[1;32m   2428\u001b[0m \u001b[39mwith\u001b[39;00m \u001b[39mself\u001b[39m\u001b[39m.\u001b[39mbuiltin_trap:\n\u001b[1;32m   2429\u001b[0m     args \u001b[39m=\u001b[39m (magic_arg_s, cell)\n\u001b[0;32m-> 2430\u001b[0m     result \u001b[39m=\u001b[39m fn(\u001b[39m*\u001b[39;49margs, \u001b[39m*\u001b[39;49m\u001b[39m*\u001b[39;49mkwargs)\n\u001b[1;32m   2432\u001b[0m \u001b[39m# The code below prevents the output from being displayed\u001b[39;00m\n\u001b[1;32m   2433\u001b[0m \u001b[39m# when using magics with decodator @output_can_be_silenced\u001b[39;00m\n\u001b[1;32m   2434\u001b[0m \u001b[39m# when the last Python token in the expression is a ';'.\u001b[39;00m\n\u001b[1;32m   2435\u001b[0m \u001b[39mif\u001b[39;00m \u001b[39mgetattr\u001b[39m(fn, magic\u001b[39m.\u001b[39mMAGIC_OUTPUT_CAN_BE_SILENCED, \u001b[39mFalse\u001b[39;00m):\n",
      "File \u001b[0;32m~/venvs/ml/lib/python3.10/site-packages/Cython/Build/IpythonMagic.py:359\u001b[0m, in \u001b[0;36mCythonMagics.cython\u001b[0;34m(self, line, cell)\u001b[0m\n\u001b[1;32m    356\u001b[0m \u001b[39m# Build seems ok, but we might still want to show any warnings that occurred\u001b[39;00m\n\u001b[1;32m    357\u001b[0m print_compiler_output(get_stdout(), get_stderr(), sys\u001b[39m.\u001b[39mstdout)\n\u001b[0;32m--> 359\u001b[0m module \u001b[39m=\u001b[39m load_dynamic(module_name, module_path)\n\u001b[1;32m    360\u001b[0m \u001b[39mself\u001b[39m\u001b[39m.\u001b[39m_import_all(module)\n\u001b[1;32m    362\u001b[0m \u001b[39mif\u001b[39;00m args\u001b[39m.\u001b[39mannotate:\n",
      "File \u001b[0;32m~/venvs/ml/lib/python3.10/site-packages/Cython/Build/Inline.py:51\u001b[0m, in \u001b[0;36mload_dynamic\u001b[0;34m(name, path)\u001b[0m\n\u001b[1;32m     49\u001b[0m spec \u001b[39m=\u001b[39m importlib\u001b[39m.\u001b[39mutil\u001b[39m.\u001b[39mspec_from_file_location(name, loader\u001b[39m=\u001b[39mExtensionFileLoader(name, path))\n\u001b[1;32m     50\u001b[0m module \u001b[39m=\u001b[39m importlib\u001b[39m.\u001b[39mutil\u001b[39m.\u001b[39mmodule_from_spec(spec)\n\u001b[0;32m---> 51\u001b[0m spec\u001b[39m.\u001b[39;49mloader\u001b[39m.\u001b[39;49mexec_module(module)\n\u001b[1;32m     52\u001b[0m \u001b[39mreturn\u001b[39;00m module\n",
      "File \u001b[0;32m<frozen importlib._bootstrap_external>:1184\u001b[0m, in \u001b[0;36mexec_module\u001b[0;34m(self, module)\u001b[0m\n",
      "File \u001b[0;32m<frozen importlib._bootstrap>:241\u001b[0m, in \u001b[0;36m_call_with_frames_removed\u001b[0;34m(f, *args, **kwds)\u001b[0m\n",
      "File \u001b[0;32m_cython_magic_c6bf5c7316faf3a9d4124baa3f671b8ee9b45539.pyx:28\u001b[0m, in \u001b[0;36minit _cython_magic_c6bf5c7316faf3a9d4124baa3f671b8ee9b45539\u001b[0;34m()\u001b[0m\n",
      "\u001b[0;31mKeyboardInterrupt\u001b[0m: "
     ]
    }
   ],
   "source": [
    "%%cython\n",
    "import sys\n",
    "\n",
    "N_SQUARES = 1_000\n",
    "squares = [i ** 2 for i in range(1, N_SQUARES + 1)]\n",
    "squares_set = set(squares)\n",
    "\n",
    "min_sum = sys.maxsize\n",
    "min_x = min_y = min_z = None\n",
    "\n",
    "for i, f in enumerate(squares):\n",
    "    for j in range(i + 1, len(squares)):\n",
    "        e = squares[j]\n",
    "        if ((e - f) % 2 != 0) or ((e + f) % 2 != 0):\n",
    "            continue\n",
    "        z = (e - f) // 2\n",
    "        y = (e + f) // 2\n",
    "        for k in range(j, len(squares)):\n",
    "            d = squares[k]\n",
    "            if (2 * d + e - f) % 2 != 0:\n",
    "                continue\n",
    "            x = (2 * d + e - f) // 2\n",
    "            if ((x + z) not in squares_set) or ((x - y) not in squares_set) or ((x + y) not in squares_set):\n",
    "                continue\n",
    "            if (curr_sum := x + y + z) < min_sum:\n",
    "                min_sum = curr_sum\n",
    "                min_x, min_y, min_z = x, y, z\n",
    "\n",
    "print(f\"Solution: {min_sum} = {min_x} + {min_y} + {min_z}\")"
   ]
  },
  {
   "cell_type": "code",
   "execution_count": 13,
   "metadata": {},
   "outputs": [
    {
     "name": "stdout",
     "output_type": "stream",
     "text": [
      "434657 + 420968 + 150568.0 = 1006193.0\n"
     ]
    }
   ],
   "source": [
    "def isSquare(x):\n",
    "    return (int(x ** 0.5) ** 2 == x)\n",
    "\n",
    "solved = False\n",
    "i = 4\n",
    "while solved == False:\n",
    "    a = i ** 2\n",
    "\n",
    "    for j in range(3,i):\n",
    "        if(solved):\n",
    "            break\n",
    "        \n",
    "        c = j ** 2\n",
    "        f = a - c\n",
    "        if(isSquare(f) == False):\n",
    "            continue\n",
    "        \n",
    "        k_initial = 1\n",
    "\n",
    "        if(j%2 == 0):\n",
    "            k_initial = 2\n",
    "\n",
    "        for k in range(k_initial,j,2):\n",
    "            d = k ** 2\n",
    "            e = a - d\n",
    "            b = c - e\n",
    "\n",
    "            if(b <= 0 or isSquare(e) == False or isSquare(b) == False):\n",
    "                continue\n",
    "\n",
    "            x = int((a + b) / 2)\n",
    "            y = int((e + f) / 2)\n",
    "            z = (c - d) / 2\n",
    "            result = x + y + z\n",
    "            print(\"{} + {} + {} = {}\".format(x,y,z,result))\n",
    "\n",
    "            solved = True\n",
    "            break\n",
    "\n",
    "    i = i + 1"
   ]
  },
  {
   "cell_type": "markdown",
   "metadata": {},
   "source": [
    "9223372036854775807"
   ]
  }
 ],
 "metadata": {
  "kernelspec": {
   "display_name": "ml",
   "language": "python",
   "name": "python3"
  },
  "language_info": {
   "codemirror_mode": {
    "name": "ipython",
    "version": 3
   },
   "file_extension": ".py",
   "mimetype": "text/x-python",
   "name": "python",
   "nbconvert_exporter": "python",
   "pygments_lexer": "ipython3",
   "version": "3.10.12"
  }
 },
 "nbformat": 4,
 "nbformat_minor": 2
}
