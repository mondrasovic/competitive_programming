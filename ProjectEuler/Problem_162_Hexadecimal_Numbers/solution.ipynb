{
 "cells": [
  {
   "cell_type": "code",
   "execution_count": 45,
   "metadata": {},
   "outputs": [
    {
     "name": "stdout",
     "output_type": "stream",
     "text": [
      "Solution: 4420408745587516162\n",
      "Solution (HEX): 3D58725572C62302\n"
     ]
    }
   ],
   "source": [
    "# Inclusion-exclusion principle\n",
    "\n",
    "def calc_valid_numbers_count(digit_len):\n",
    "    total = 15 * 16 ** (digit_len - 1)\n",
    "    have_no_0 = 15 ** digit_len\n",
    "    have_no_1 = 14 * 15 ** (digit_len - 1)\n",
    "    have_no_A = 14 * 15 ** (digit_len - 1)\n",
    "    have_no_0_and_1 = 14 ** digit_len\n",
    "    have_no_0_and_A = 14 ** digit_len\n",
    "    have_no_1_and_A = 13 * 14 ** (digit_len - 1)\n",
    "    have_no_0_and_1_and_A = 13 ** digit_len\n",
    "    return total - (\n",
    "        have_no_0 + have_no_1 + have_no_A -\n",
    "        have_no_0_and_1 - have_no_0_and_A - have_no_1_and_A +\n",
    "        have_no_0_and_1_and_A\n",
    "    )\n",
    "\n",
    "\n",
    "solution = sum(calc_valid_numbers_count(digit_len) for digit_len in range(1, 17))\n",
    "print(f\"Solution: {solution}\")\n",
    "print(f\"Solution (HEX): {solution:X}\")"
   ]
  }
 ],
 "metadata": {
  "kernelspec": {
   "display_name": "ml",
   "language": "python",
   "name": "python3"
  },
  "language_info": {
   "codemirror_mode": {
    "name": "ipython",
    "version": 3
   },
   "file_extension": ".py",
   "mimetype": "text/x-python",
   "name": "python",
   "nbconvert_exporter": "python",
   "pygments_lexer": "ipython3",
   "version": "3.10.12"
  },
  "orig_nbformat": 4
 },
 "nbformat": 4,
 "nbformat_minor": 2
}
