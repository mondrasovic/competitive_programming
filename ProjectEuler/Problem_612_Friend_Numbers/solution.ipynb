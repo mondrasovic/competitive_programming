{
 "cells": [
  {
   "cell_type": "code",
   "execution_count": 14,
   "metadata": {},
   "outputs": [
    {
     "name": "stdout",
     "output_type": "stream",
     "text": [
      "(0, 0, 0, 0)\n",
      "(0, 0, 0, 1)\n",
      "(0, 0, 0, 2)\n",
      "(0, 0, 1, 1)\n",
      "(0, 0, 1, 2)\n",
      "(0, 0, 2, 2)\n",
      "(0, 1, 1, 1)\n",
      "(0, 1, 1, 2)\n",
      "(0, 1, 2, 2)\n",
      "(0, 2, 2, 2)\n",
      "(1, 1, 1, 1)\n",
      "(1, 1, 1, 2)\n",
      "(1, 1, 2, 2)\n",
      "(1, 2, 2, 2)\n",
      "(2, 2, 2, 2)\n"
     ]
    }
   ],
   "source": [
    "import collections\n",
    "import itertools\n",
    "import operator\n",
    "from functools import reduce\n",
    "\n",
    "class DigitGroup:\n",
    "    _MAX_FACTORIAL_NUM = 18\n",
    "    _FACTORIAL_TABLE = reduce(lambda x, y: x + [x[-1] * y], range(1, _MAX_FACTORIAL_NUM + 1), [1])\n",
    "\n",
    "    def __init__(self, digits):\n",
    "        self.total_numbers_count = self._calc_total_numbers_count(digits)\n",
    "        self.digit_mask = self._calc_digit_mask(digits)\n",
    "    \n",
    "    def have_digit_in_common(self, other_digit_group):\n",
    "        return (self.digit_mask & other_digit_group.digit_mask) != 0\n",
    "    \n",
    "    def calc_possible_pairs(self, other_digit_group):\n",
    "        return self.total_numbers_count * other_digit_group.total_numbers_count\n",
    "\n",
    "    def _calc_digit_mask(digits):\n",
    "        return reduce(lambda mask, digit: mask | (1 << digit), digits, 0)\n",
    "    \n",
    "    def _calc_total_numbers_count(self, digits):\n",
    "        digit_counter = collections.Counter(digits)\n",
    "        numerator = self._factorial(len(digits))\n",
    "        denominator = reduce(operator.mul, map(self._factorial, digit_counter.values()), 1)\n",
    "        total_numbers_count = numerator // denominator\n",
    "\n",
    "        if (zero_digit_count := digit_counter.get(0)):\n",
    "            reduction_count = 0\n",
    "\n",
    "        return total_numbers_count\n",
    "    \n",
    "    def _factorial(self, num):\n",
    "        return self._FACTORIAL_TABLE[num]\n",
    "    \n",
    "digits = range(0, 3)\n",
    "for digit_group in itertools.combinations_with_replacement(digits, 4):\n",
    "    print(digit_group)"
   ]
  }
 ],
 "metadata": {
  "kernelspec": {
   "display_name": "ml",
   "language": "python",
   "name": "python3"
  },
  "language_info": {
   "codemirror_mode": {
    "name": "ipython",
    "version": 3
   },
   "file_extension": ".py",
   "mimetype": "text/x-python",
   "name": "python",
   "nbconvert_exporter": "python",
   "pygments_lexer": "ipython3",
   "version": "3.10.12"
  }
 },
 "nbformat": 4,
 "nbformat_minor": 2
}
