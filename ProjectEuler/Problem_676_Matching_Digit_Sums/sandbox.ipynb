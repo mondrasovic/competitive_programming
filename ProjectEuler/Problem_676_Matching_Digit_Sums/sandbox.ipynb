{
 "cells": [
  {
   "cell_type": "code",
   "execution_count": 14,
   "metadata": {},
   "outputs": [
    {
     "name": "stdout",
     "output_type": "stream",
     "text": [
      "\u001b[31m8, 2\u001b[0m: 8, 56, 8, 440, 8, 56, 8, 3512, 8, 56, 8, 440, 8, 56, 8, 28088, 8, 56, 8, 440, 8, 56, 8, 3512, 8, 56, 8, 440, 8, 56, 8, \n",
      "\u001b[31m16, 2\u001b[0m: 16, 240, 16, 3824, 16, 240, 16, 61168, 16, 240, 16, 3824, 16, 240, 16, \n",
      "\u001b[31m16, 4\u001b[0m: 16, 16, 16, 208, 16, 16, 16, 208, 16, 16, 16, 208, 16, 16, 16, 3280, 16, 16, 16, 208, 16, 16, 16, 208, 16, 16, 16, 208, 16, 16, 16, 3280, 16, 16, 16, 208, 16, 16, 16, 208, 16, 16, 16, 208, 16, 16, 16, 3280, 16, 16, 16, 208, 16, 16, 16, 208, 16, 16, 16, 208, 16, 16, 16, 52432, 16, 16, 16, 208, 16, 16, 16, 208, 16, 16, 16, 208, 16, 16, 16, 3280, 16, 16, 16, 208, 16, 16, 16, 208, 16, 16, 16, 208, 16, 16, 16, 3280, 16, 16, 16, 208, 16, 16, 16, 208, 16, 16, 16, 208, 16, 16, 16, 3280, 16, 16, 16, 208, 16, 16, 16, 208, 16, 16, 16, 208, 16, 16, 16, \n",
      "\u001b[31m32, 2\u001b[0m: 32, 992, 32, 31712, 32, 992, 32, \n",
      "\u001b[31m32, 4\u001b[0m: 96, 928, 96, 928, 96, 928, 96, 29664, 96, 928, 96, 928, 96, 928, 96, 29568, 1024, 1024, 1024, 29664, 96, 928, 96, \n",
      "\u001b[31m32, 8\u001b[0m: 224, 864, 224, 864, 224, 864, 224, 640, 1088, 1088, 864, 224, 3904, 21472, 224, 864, 224, 864, 224, 864, 224, 640, 1088, 1088, 864, 224, 3904, 21472, 224, 864, 224, 864, 224, 864, 224, 640, 1088, 1088, 864, 224, 3904, 21472, 224, 864, 224, \n",
      "\u001b[31m64, 2\u001b[0m: 64, 4032, 64, \n",
      "\u001b[31m64, 4\u001b[0m: 64, 64, 64, 3904, 64, 64, 64, 3904, 64, 64, 64, 3904, 64, 64, 64, \n",
      "\u001b[31m64, 8\u001b[0m: 64, 64, 64, 64, 64, 64, 64, 3648, 64, 64, 64, 64, 64, 64, 64, 3648, 64, 64, 64, 64, 64, 64, 64, 3648, 64, 64, 64, 64, 64, 64, 64, 3648, 64, 64, 64, 64, 64, 64, 64, 3648, 64, 64, 64, 64, 64, 64, 64, 3648, 64, 64, 64, 64, 64, 64, 64, 3648, 64, 64, 64, 64, 64, 64, 64, \n",
      "\u001b[31m64, 16\u001b[0m: 320, 320, 320, 3136, 320, 320, 320, 3136, 320, 320, 320, 3136, 320, 320, 320, 3136, 320, 320, 320, 3136, 320, 320, 320, 3136, 320, 320, 320, 3136, 320, 320, 320, 3136, 320, 320, 320, 3136, 320, 320, 320, 3136, 320, 320, 320, 3136, 320, 320, 320, 3136, 320, 320, 320, 3136, 320, 320, 320, 3136, 320, 320, 320, 3136, 320, 320, 320, \n"
     ]
    }
   ],
   "source": [
    "def digit_sum(num, base):\n",
    "    ret_sum = 0\n",
    "\n",
    "    while num > 0:\n",
    "        ret_sum += num % base\n",
    "        num //= base\n",
    "\n",
    "    return ret_sum\n",
    "\n",
    "\n",
    "def is_double_base_expressible(num, base_1, base_2):\n",
    "    return digit_sum(num, base_1) == digit_sum(num, base_2)\n",
    "\n",
    "def iter_double_expressible_nums(max_val, upper_base, lower_base):\n",
    "    yield from (\n",
    "        num\n",
    "        for num in range(max_val)\n",
    "        if is_double_base_expressible(num, upper_base, lower_base)\n",
    "    )\n",
    "\n",
    "from termcolor import colored\n",
    "\n",
    "max_val = 100_000\n",
    "\n",
    "for upper_base_exp in range(3, 7):\n",
    "    upper_base = 2**upper_base_exp\n",
    "\n",
    "    for lower_base_exp in range(1, upper_base_exp - 1):\n",
    "        lower_base = 2**lower_base_exp\n",
    "\n",
    "        nums_str = \", \".join(\n",
    "            map(\n",
    "                str,\n",
    "                sorted(\n",
    "                    iter_double_expressible_nums(\n",
    "                        max_val, upper_base, lower_base\n",
    "                    )\n",
    "                )\n",
    "            )\n",
    "        )\n",
    "\n",
    "        prev_inc_num = 0\n",
    "        print(colored(f\"{upper_base}, {lower_base}\", \"red\") + \": \", end=\"\")\n",
    "        for num in sorted(\n",
    "            iter_double_expressible_nums(max_val, upper_base, lower_base)\n",
    "        ):\n",
    "            if (num > 0) and (num % lower_base) == 0:\n",
    "                inc = num - prev_inc_num\n",
    "                print(f\"{inc}, \", end=\"\")\n",
    "                prev_inc_num = num\n",
    "        print()"
   ]
  },
  {
   "cell_type": "code",
   "execution_count": null,
   "metadata": {},
   "outputs": [],
   "source": [
    "\n"
   ]
  }
 ],
 "metadata": {
  "interpreter": {
   "hash": "f91a5d6e4747d83f2ca8abaaaf7aacd52eac54e528eee770e3eb228d51a3694d"
  },
  "kernelspec": {
   "display_name": "Python 3.7.9 64-bit (system)",
   "language": "python",
   "name": "python3"
  },
  "language_info": {
   "codemirror_mode": {
    "name": "ipython",
    "version": 3
   },
   "file_extension": ".py",
   "mimetype": "text/x-python",
   "name": "python",
   "nbconvert_exporter": "python",
   "pygments_lexer": "ipython3",
   "version": "3.7.9"
  },
  "orig_nbformat": 4
 },
 "nbformat": 4,
 "nbformat_minor": 2
}
